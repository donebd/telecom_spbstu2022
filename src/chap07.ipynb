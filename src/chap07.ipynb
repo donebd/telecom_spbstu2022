{
  "nbformat": 4,
  "nbformat_minor": 0,
  "metadata": {
    "colab": {
      "name": "chap07.ipynb",
      "provenance": [],
      "collapsed_sections": []
    },
    "kernelspec": {
      "name": "python3",
      "display_name": "Python 3"
    },
    "language_info": {
      "name": "python"
    }
  },
  "cells": [
    {
      "cell_type": "markdown",
      "source": [
        "# Упражнение 1\n",
        "Реализовать быстрое преобразование Фурье (БПФ)"
      ],
      "metadata": {
        "id": "3P_o0qc0krs4"
      }
    },
    {
      "cell_type": "code",
      "execution_count": 14,
      "metadata": {
        "id": "4C_Z1T9hjcSV"
      },
      "outputs": [],
      "source": [
        "import numpy as np\n",
        "PI2 = 2 * np.pi"
      ]
    },
    {
      "cell_type": "code",
      "source": [
        "def dft(ys):\n",
        "    N = len(ys)\n",
        "    ts = np.arange(N) / N\n",
        "    freqs = np.arange(N)\n",
        "    args = np.outer(ts, freqs)\n",
        "    M = np.exp(1j * PI2 * args)\n",
        "    amps = M.conj().transpose().dot(ys)\n",
        "    return amps\n",
        "\n",
        "def my_fft(ys):\n",
        "  He = dft(ys[::2])\n",
        "  Ho = dft(ys[1::2])\n",
        "  ns = np.arange(len(ys))\n",
        "  W = np.exp(-1j * PI2 * ns / len(ys))\n",
        "  return np.tile(He, 2) + W * np.tile(Ho, 2)\n",
        "\n",
        "def my_recursive_fft(ys):\n",
        "  if len(ys) == 1:\n",
        "    return ys\n",
        "  He = my_fft(ys[::2])\n",
        "  Ho = my_fft(ys[1::2])\n",
        "  ns = np.arange(len(ys))\n",
        "  W = np.exp(-1j * PI2 * ns / len(ys))\n",
        "  return np.tile(He, 2) + W * np.tile(Ho, 2)"
      ],
      "metadata": {
        "id": "49gGTSUhlGjI"
      },
      "execution_count": 15,
      "outputs": []
    },
    {
      "cell_type": "markdown",
      "source": [
        "Для примера возьмём простой массив:"
      ],
      "metadata": {
        "id": "u8Ih63q2k7bf"
      }
    },
    {
      "cell_type": "code",
      "source": [
        "ys = [0.2,-0.5,-0.6, 0.4]\n",
        "hs = np.fft.fft(ys)\n",
        "hs"
      ],
      "metadata": {
        "colab": {
          "base_uri": "https://localhost:8080/"
        },
        "id": "dw4EAZwglBXs",
        "outputId": "1b753340-60ae-4434-dd5a-69898c46a134"
      },
      "execution_count": 26,
      "outputs": [
        {
          "output_type": "execute_result",
          "data": {
            "text/plain": [
              "array([-0.5+0.j ,  0.8+0.9j, -0.3+0.j ,  0.8-0.9j])"
            ]
          },
          "metadata": {},
          "execution_count": 26
        }
      ]
    },
    {
      "cell_type": "code",
      "source": [
        "dft(ys)"
      ],
      "metadata": {
        "colab": {
          "base_uri": "https://localhost:8080/"
        },
        "id": "ioXZ3lYllMO6",
        "outputId": "d66621d8-f101-4df0-972a-5dd5e5eabf1b"
      },
      "execution_count": 27,
      "outputs": [
        {
          "output_type": "execute_result",
          "data": {
            "text/plain": [
              "array([-0.5+0.00000000e+00j,  0.8+9.00000000e-01j, -0.3-2.32682892e-16j,\n",
              "        0.8-9.00000000e-01j])"
            ]
          },
          "metadata": {},
          "execution_count": 27
        }
      ]
    },
    {
      "cell_type": "markdown",
      "source": [
        "Разделим массив:"
      ],
      "metadata": {
        "id": "Jn19MSaZlO1Y"
      }
    },
    {
      "cell_type": "code",
      "source": [
        "ys[::2] , ys[1::2]"
      ],
      "metadata": {
        "colab": {
          "base_uri": "https://localhost:8080/"
        },
        "id": "XdpahQL7lQLq",
        "outputId": "61f4bc72-4134-4ed6-c174-b71f39738b52"
      },
      "execution_count": 28,
      "outputs": [
        {
          "output_type": "execute_result",
          "data": {
            "text/plain": [
              "([0.2, -0.6], [-0.5, 0.4])"
            ]
          },
          "metadata": {},
          "execution_count": 28
        }
      ]
    },
    {
      "cell_type": "markdown",
      "source": [
        "Используем нерекурсивный метод:"
      ],
      "metadata": {
        "id": "ccnVSGWFlVRY"
      }
    },
    {
      "cell_type": "code",
      "source": [
        "my_fft(ys)"
      ],
      "metadata": {
        "colab": {
          "base_uri": "https://localhost:8080/"
        },
        "id": "HhXd1UjYlXnE",
        "outputId": "e8653df0-b526-4da9-c31f-b154504ad50b"
      },
      "execution_count": 29,
      "outputs": [
        {
          "output_type": "execute_result",
          "data": {
            "text/plain": [
              "array([-0.5+0.0000000e+00j,  0.8+9.0000000e-01j, -0.3+1.2246468e-17j,\n",
              "        0.8-9.0000000e-01j])"
            ]
          },
          "metadata": {},
          "execution_count": 29
        }
      ]
    },
    {
      "cell_type": "markdown",
      "source": [
        "Теперь будем использовать рекурсивный метод:"
      ],
      "metadata": {
        "id": "uAJMeyUplfvP"
      }
    },
    {
      "cell_type": "code",
      "source": [
        "my_recursive_fft(ys)"
      ],
      "metadata": {
        "colab": {
          "base_uri": "https://localhost:8080/"
        },
        "id": "vMXbPhcxlfiT",
        "outputId": "fa086130-2fc7-4778-c710-a030576a3ae6"
      },
      "execution_count": 30,
      "outputs": [
        {
          "output_type": "execute_result",
          "data": {
            "text/plain": [
              "array([-0.5+0.0000000e+00j,  0.8+9.0000000e-01j, -0.3+1.2246468e-17j,\n",
              "        0.8-9.0000000e-01j])"
            ]
          },
          "metadata": {},
          "execution_count": 30
        }
      ]
    },
    {
      "cell_type": "markdown",
      "source": [
        "Все результаты реализаций полностью сошлись!"
      ],
      "metadata": {
        "id": "efGW2iN6mfY1"
      }
    }
  ]
}